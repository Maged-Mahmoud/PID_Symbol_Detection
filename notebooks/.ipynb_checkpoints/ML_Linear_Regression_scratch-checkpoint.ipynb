{
 "cells": [
  {
   "cell_type": "code",
   "execution_count": 1,
   "id": "6faeef64-c8bd-49f5-bb18-27b62151d93c",
   "metadata": {},
   "outputs": [],
   "source": [
    "import numpy as np\n",
    "from sklearn import datasets\n",
    "from sklearn.model_selection import train_test_split\n",
    "import matplotlib.pyplot as plt"
   ]
  },
  {
   "cell_type": "markdown",
   "id": "67c06e0f-9e27-4bb5-9f0f-5c26e5c86298",
   "metadata": {},
   "source": [
    "Create a synthetic dataset"
   ]
  },
  {
   "cell_type": "code",
   "execution_count": 31,
   "id": "b53094a4-6f49-4a5f-990e-05c777c5a3fe",
   "metadata": {},
   "outputs": [
    {
     "data": {
      "image/png": "[encoded data removed]",
      "text/plain": [
       "<Figure size 400x400 with 1 Axes>"
      ]
     },
     "metadata": {},
     "output_type": "display_data"
    }
   ],
   "source": [
    "X,y = datasets.make_regression(n_samples=100, n_features=1, noise=10, random_state=42)\n",
    "\n",
    "plt.figure(figsize = (4,4))\n",
    "plt.scatter(X,y)\n",
    "plt.title('Dataset')\n",
    "plt.show()"
   ]
  },
  {
   "cell_type": "code",
   "execution_count": null,
   "id": "0b520cda-85f7-4a43-9e96-7b15fa63d521",
   "metadata": {},
   "outputs": [],
   "source": [
    "class LinearRegressionBGD:\n",
    "    def __init__(self, lr=0.01, epochs=10, add_bias=True):\n",
    "        self.lr = 0.01\n",
    "        self.epochs = epochs\n",
    "        self.add_bias = add_bias\n",
    "        self.theta = None\n",
    "        \n",
    "    def fit(self, X, y):\n",
    "        if self.add_bias:\n",
    "            x0 = np.ones((X.shape[0], 1))\n",
    "            X = np.concatenate([x0, X], axis = 1)\n",
    "            \n",
    "        n, d = X.shape\n",
    "        # initialize parameters\n",
    "        self.theta = np.random.randn(d)\n",
    "\n",
    "        # Batch gradient descent\n",
    "        for epoch in range(epochs):\n",
    "            y_hat = X @ self.theta\n",
    "            loss = self.mse(y_hat,y)\n",
    "            dL_dtheta = self.mse_derivative(X,y,y_hat)\n",
    "            self.theta = self.theta - lr * dL_dtheta\n",
    "            if epoch%50 == 0:\n",
    "                print(f\"epoch: {epoch}, train_loss: {loss}\")\n",
    "        return self.theta\n",
    "\n",
    "    def mse(self, y_hat, y):\n",
    "        return np.mean((y_hat - y)**2)/(2*len(y))  # for 1/2n * (y-y_hat)**2\n",
    "        \n",
    "    def mse_derivative(self, X, y, y_hat):\n",
    "        dL_dtheta = (X.T @ (y_hat-y))/ len(y)\n",
    "        return dL_dtheta\n",
    "        \n",
    "    def predict(self, X):\n",
    "        return X@self.theta"
   ]
  },
  {
   "cell_type": "code",
   "execution_count": null,
   "id": "bdfa4e8f-337c-4da8-a285-45950c0152fd",
   "metadata": {},
   "outputs": [],
   "source": []
  },
  {
   "cell_type": "code",
   "execution_count": null,
   "id": "7228868f-422b-4d30-af86-ff4b4baca7a5",
   "metadata": {},
   "outputs": [],
   "source": []
  },
  {
   "cell_type": "code",
   "execution_count": null,
   "id": "611fc5eb-556e-4444-aff5-542fea43e197",
   "metadata": {},
   "outputs": [],
   "source": []
  }
 ],
 "metadata": {
  "kernelspec": {
   "display_name": "Python 3 (ipykernel)",
   "language": "python",
   "name": "python3"
  },
  "language_info": {
   "codemirror_mode": {
    "name": "ipython",
    "version": 3
   },
   "file_extension": ".py",
   "mimetype": "text/x-python",
   "name": "python",
   "nbconvert_exporter": "python",
   "pygments_lexer": "ipython3",
   "version": "3.9.19"
  }
 },
 "nbformat": 4,
 "nbformat_minor": 5
}
