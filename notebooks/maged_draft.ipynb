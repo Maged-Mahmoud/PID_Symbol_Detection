{
 "cells": [
  {
   "cell_type": "code",
   "execution_count": 2,
   "metadata": {},
   "outputs": [
    {
     "name": "stdout",
     "output_type": "stream",
     "text": [
      "Saved D:\\maged\\GitHub\\PID_Symbol_Detection\\data\\sample_dataset\\test_set\\P174M03001VG_page_0.png\n",
      "Saved D:\\maged\\GitHub\\PID_Symbol_Detection\\data\\sample_dataset\\test_set\\P174M05001VG_page_0.png\n",
      "Saved D:\\maged\\GitHub\\PID_Symbol_Detection\\data\\sample_dataset\\test_set\\P174M06001VG_page_0.png\n",
      "Saved D:\\maged\\GitHub\\PID_Symbol_Detection\\data\\sample_dataset\\test_set\\P174M06002VG_page_0.png\n",
      "Saved D:\\maged\\GitHub\\PID_Symbol_Detection\\data\\sample_dataset\\test_set\\P174M06003VG_page_0.png\n",
      "Saved D:\\maged\\GitHub\\PID_Symbol_Detection\\data\\sample_dataset\\test_set\\P174M06004VG_page_0.png\n",
      "Saved D:\\maged\\GitHub\\PID_Symbol_Detection\\data\\sample_dataset\\test_set\\P174M06005VG_page_0.png\n",
      "Saved D:\\maged\\GitHub\\PID_Symbol_Detection\\data\\sample_dataset\\test_set\\P174M06006VG_page_0.png\n",
      "Saved D:\\maged\\GitHub\\PID_Symbol_Detection\\data\\sample_dataset\\test_set\\P174M06007VG_page_0.png\n",
      "Saved D:\\maged\\GitHub\\PID_Symbol_Detection\\data\\sample_dataset\\test_set\\P174M06008VG_page_0.png\n",
      "Saved D:\\maged\\GitHub\\PID_Symbol_Detection\\data\\sample_dataset\\test_set\\P174M06009VG_page_0.png\n",
      "Saved D:\\maged\\GitHub\\PID_Symbol_Detection\\data\\sample_dataset\\test_set\\P174M06010VG_page_0.png\n",
      "Saved D:\\maged\\GitHub\\PID_Symbol_Detection\\data\\sample_dataset\\test_set\\P174M06011VG_page_0.png\n",
      "Saved D:\\maged\\GitHub\\PID_Symbol_Detection\\data\\sample_dataset\\test_set\\P174M06012VG_page_0.png\n",
      "Saved D:\\maged\\GitHub\\PID_Symbol_Detection\\data\\sample_dataset\\test_set\\P174M06013VG_page_0.png\n",
      "Saved D:\\maged\\GitHub\\PID_Symbol_Detection\\data\\sample_dataset\\test_set\\P174M06014VG_page_0.png\n",
      "Saved D:\\maged\\GitHub\\PID_Symbol_Detection\\data\\sample_dataset\\test_set\\P174M06015VG_page_0.png\n",
      "Saved D:\\maged\\GitHub\\PID_Symbol_Detection\\data\\sample_dataset\\test_set\\P174M06016VG_page_0.png\n",
      "Saved D:\\maged\\GitHub\\PID_Symbol_Detection\\data\\sample_dataset\\test_set\\P174M06017VG_page_0.png\n",
      "Saved D:\\maged\\GitHub\\PID_Symbol_Detection\\data\\sample_dataset\\test_set\\P174M06018VG_page_0.png\n",
      "Saved D:\\maged\\GitHub\\PID_Symbol_Detection\\data\\sample_dataset\\test_set\\P174M06019VG_page_0.png\n",
      "Saved D:\\maged\\GitHub\\PID_Symbol_Detection\\data\\sample_dataset\\test_set\\P174M06020VG_page_0.png\n",
      "Saved D:\\maged\\GitHub\\PID_Symbol_Detection\\data\\sample_dataset\\test_set\\P174M06021VG_page_0.png\n",
      "Saved D:\\maged\\GitHub\\PID_Symbol_Detection\\data\\sample_dataset\\test_set\\P174M06022VG_page_0.png\n",
      "Saved D:\\maged\\GitHub\\PID_Symbol_Detection\\data\\sample_dataset\\test_set\\P174M06023VG_page_0.png\n",
      "Results will be saved to: D:\\maged\\GitHub\\PID_Symbol_Detection\\data\\sample_dataset\\SAHI_results_agnostic\n",
      "Total test images:  25\n",
      "SAHI processing:  P174M03001VG_page_0.png\n",
      "Performing prediction on 24 slices.\n",
      "SAHI processing:  P174M05001VG_page_0.png\n",
      "Performing prediction on 24 slices.\n",
      "SAHI processing:  P174M06001VG_page_0.png\n",
      "Performing prediction on 24 slices.\n",
      "SAHI processing:  P174M06002VG_page_0.png\n",
      "Performing prediction on 24 slices.\n",
      "SAHI processing:  P174M06003VG_page_0.png\n",
      "Performing prediction on 24 slices.\n",
      "SAHI processing:  P174M06004VG_page_0.png\n",
      "Performing prediction on 24 slices.\n",
      "SAHI processing:  P174M06005VG_page_0.png\n",
      "Performing prediction on 24 slices.\n",
      "SAHI processing:  P174M06006VG_page_0.png\n",
      "Performing prediction on 24 slices.\n",
      "SAHI processing:  P174M06007VG_page_0.png\n",
      "Performing prediction on 24 slices.\n",
      "SAHI processing:  P174M06008VG_page_0.png\n",
      "Performing prediction on 24 slices.\n",
      "SAHI processing:  P174M06009VG_page_0.png\n",
      "Performing prediction on 24 slices.\n",
      "SAHI processing:  P174M06010VG_page_0.png\n",
      "Performing prediction on 24 slices.\n",
      "SAHI processing:  P174M06011VG_page_0.png\n",
      "Performing prediction on 24 slices.\n",
      "SAHI processing:  P174M06012VG_page_0.png\n",
      "Performing prediction on 24 slices.\n",
      "SAHI processing:  P174M06013VG_page_0.png\n",
      "Performing prediction on 24 slices.\n",
      "SAHI processing:  P174M06014VG_page_0.png\n",
      "Performing prediction on 24 slices.\n",
      "SAHI processing:  P174M06015VG_page_0.png\n",
      "Performing prediction on 24 slices.\n",
      "SAHI processing:  P174M06016VG_page_0.png\n",
      "Performing prediction on 24 slices.\n",
      "SAHI processing:  P174M06017VG_page_0.png\n",
      "Performing prediction on 24 slices.\n",
      "SAHI processing:  P174M06018VG_page_0.png\n",
      "Performing prediction on 24 slices.\n",
      "SAHI processing:  P174M06019VG_page_0.png\n",
      "Performing prediction on 24 slices.\n",
      "SAHI processing:  P174M06020VG_page_0.png\n",
      "Performing prediction on 24 slices.\n",
      "SAHI processing:  P174M06021VG_page_0.png\n",
      "Performing prediction on 24 slices.\n",
      "SAHI processing:  P174M06022VG_page_0.png\n",
      "Performing prediction on 24 slices.\n",
      "SAHI processing:  P174M06023VG_page_0.png\n",
      "Performing prediction on 24 slices.\n",
      "********* DONE - SAHI *********\n"
     ]
    }
   ],
   "source": [
    "import os, sys\n",
    "sys.path.append(os.path.abspath('..'))\n",
    "from utils.stage1_utils import *\n",
    "from utils.helpers import save_pdf_page_as_image_from_dir\n",
    "\n",
    "\n",
    "\n",
    "\n",
    "def run_yolo_with_sahi(test_dir, yolo_weights, suffix='agnostic', slice_size=1024):\n",
    "    \n",
    "    im_pths = save_pdf_page_as_image_from_dir(test_dir, page_to_render=0, dpi=300, image_format=\"png\")\n",
    "    im_pths = get_im_pths(test_dir)\n",
    "    # run SAHI\n",
    "    perform_SAHI(im_pths=im_pths, \n",
    "                    weights_file=yolo_weights, \n",
    "                    sz = slice_size, \n",
    "                    suffix = suffix, \n",
    "                    with_conf_score = True, \n",
    "                    rect_th = 2,\n",
    "                    to_run = True, confidence_threshold=0.3,overlap_height_ratio=0.20, overlap_width_ratio=0.20)\n",
    "\n",
    "\n",
    "# run SAHI inference with Yolo model trained with Class-Agnostic labels\n",
    "test_dir = r'D:\\maged\\GitHub\\PID_Symbol_Detection\\data\\sample_dataset\\test_set'\n",
    "yolo_weights = '../models/sample_class_agnostic/best.pt'\n",
    "run_yolo_with_sahi(test_dir=test_dir, yolo_weights=yolo_weights, suffix='agnostic', slice_size=1024)\n"
   ]
  },
  {
   "cell_type": "code",
   "execution_count": null,
   "metadata": {},
   "outputs": [],
   "source": []
  },
  {
   "cell_type": "code",
   "execution_count": 1,
   "metadata": {},
   "outputs": [
    {
     "name": "stderr",
     "output_type": "stream",
     "text": [
      "d:\\maged\\GitHub\\PID_Symbol_Detection\\.venv\\Lib\\site-packages\\tqdm\\auto.py:21: TqdmWarning: IProgress not found. Please update jupyter and ipywidgets. See https://ipywidgets.readthedocs.io/en/stable/user_install.html\n",
      "  from .autonotebook import tqdm as notebook_tqdm\n",
      "INFO:albumentations.check_version:A new version of Albumentations is available: 1.4.21 (you have 1.4.11). Upgrade using: pip install --upgrade albumentations\n"
     ]
    },
    {
     "name": "stdout",
     "output_type": "stream",
     "text": [
      "Loaded detection model vikp/surya_det3 on device cpu with dtype torch.float32\n",
      "Loaded recognition model vikp/surya_rec2 on device cpu with dtype torch.float32\n"
     ]
    },
    {
     "name": "stderr",
     "output_type": "stream",
     "text": [
      "Detecting bboxes: 100%|██████████| 1/1 [00:28<00:00, 28.30s/it]\n",
      "Recognizing Text: 100%|██████████| 6/6 [06:25<00:00, 64.27s/it]\n"
     ]
    }
   ],
   "source": [
    "import os, sys\n",
    "sys.path.append(os.path.abspath('..'))\n",
    "from utils.stage1_utils import *\n",
    "from utils.helpers import draw_ocr_boxes\n",
    "from utils.ocr_settings import settings\n",
    "from PIL import Image\n",
    "from surya.ocr import run_ocr\n",
    "from surya.model.detection.model import load_model as load_det_model, load_processor as load_det_processor\n",
    "from surya.model.recognition.model import load_model as load_rec_model\n",
    "from surya.model.recognition.processor import load_processor as load_rec_processor\n",
    "\n",
    "\n",
    "test_dir = r'D:\\maged\\GitHub\\PID_Symbol_Detection\\data\\sample_dataset\\test_set'\n",
    "im_pths = get_im_pths(test_dir)\n",
    "image = Image.open(im_pths[0])\n",
    "langs = [\"en\"] # Replace with your languages - optional but recommended\n",
    "det_processor, det_model = load_det_processor(), load_det_model()\n",
    "rec_model, rec_processor = load_rec_model(), load_rec_processor()\n",
    "\n",
    "predictions = run_ocr([image], [langs], det_model, det_processor, rec_model, rec_processor)"
   ]
  },
  {
   "cell_type": "code",
   "execution_count": 2,
   "metadata": {},
   "outputs": [
    {
     "name": "stdout",
     "output_type": "stream",
     "text": [
      "Saved annotated image at D:\\maged\\GitHub\\PID_Symbol_Detection\\data\\sample_dataset\\ocr_results\\P174M03001VG_page_0_text_ocr.png\n"
     ]
    }
   ],
   "source": [
    "image_path = im_pths[0]\n",
    "\n",
    "draw_ocr_boxes(image_path, predictions[0])"
   ]
  },
  {
   "cell_type": "code",
   "execution_count": null,
   "metadata": {},
   "outputs": [],
   "source": []
  },
  {
   "cell_type": "code",
   "execution_count": null,
   "metadata": {},
   "outputs": [],
   "source": []
  },
  {
   "cell_type": "code",
   "execution_count": null,
   "metadata": {},
   "outputs": [],
   "source": []
  },
  {
   "cell_type": "code",
   "execution_count": null,
   "metadata": {},
   "outputs": [],
   "source": []
  }
 ],
 "metadata": {
  "kernelspec": {
   "display_name": ".venv",
   "language": "python",
   "name": "python3"
  },
  "language_info": {
   "codemirror_mode": {
    "name": "ipython",
    "version": 3
   },
   "file_extension": ".py",
   "mimetype": "text/x-python",
   "name": "python",
   "nbconvert_exporter": "python",
   "pygments_lexer": "ipython3",
   "version": "3.11.4"
  }
 },
 "nbformat": 4,
 "nbformat_minor": 2
}
